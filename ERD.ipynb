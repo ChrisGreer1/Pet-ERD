{
  "nbformat": 4,
  "nbformat_minor": 0,
  "metadata": {
    "colab": {
      "name": "Untitled0.ipynb",
      "provenance": [],
      "authorship_tag": "ABX9TyPKrrjYPGjPL9Fd0T0eqZXH",
      "include_colab_link": true
    },
    "kernelspec": {
      "name": "python3",
      "display_name": "Python 3"
    }
  },
  "cells": [
    {
      "cell_type": "markdown",
      "metadata": {
        "id": "view-in-github",
        "colab_type": "text"
      },
      "source": [
        "<a href=\"https://colab.research.google.com/github/ChrisGreer1/Pet-ERD/blob/master/ERD.ipynb\" target=\"_parent\"><img src=\"https://colab.research.google.com/assets/colab-badge.svg\" alt=\"Open In Colab\"/></a>"
      ]
    },
    {
      "cell_type": "markdown",
      "metadata": {
        "id": "0pCFzyITB2ak",
        "colab_type": "text"
      },
      "source": [
        "## Entity Relationship Diagram"
      ]
    },
    {
      "cell_type": "markdown",
      "metadata": {
        "id": "8-QnIWnKE6Hz",
        "colab_type": "text"
      },
      "source": [
        "In order to create this entity-relationship diagram, I first needed to take into account what the entities were that needed to be tracked kept up to speed. In this case, the business model of a pet store allowed for six entities to be created within my database. This was done so by seperating entities into tables such as pets, enclosures, food, customers, transactions for food, and transactions for pets. Within each table, a primary key is needed that has unique values. For the pet, food and enclosure tables, I chose to create a new ID for each pet, each food bag and each enclosure that the shop owns. Then I decided serial numbers would be unique to food purchases and order numbers would be unique to pet purchases. Finally, the customers themselves will recieve their own ID in order to keep track of the different items they have purchased.Secondary keys, which are used primarily for data retrieval, will be helpful under entities such as pet and enclosure to moniter which pets are placed where. Secondary keys will also prove useful for transactions, as the customer ID is embedded into every transaction. Next came connectivity and cardinality, and I found many relationships within the shop to have one-to-one relationships. For example, I'm assimung each pet has it's own enclosure, so each transaction will also contain one enclosure and one pet ID. Additionally, every transaction relates to one customer. In terms of pet food that could be sold, many different types of food could be sold in many different transactions, and many different types of food could be given to many different types of pets. For one to many relationships, one customer could have multiple transactions of food or multiple transactions of pets. Finally in terms of one to many, one pet could be fed many different types of food. Overall, my database for the pet shop will be linked through the use of entities such as enclosures, pets, food, and transactions to establish quantitative relationships that will enhance business processes."
      ]
    },
    {
      "cell_type": "markdown",
      "metadata": {
        "id": "tDwnVfwNOLN1",
        "colab_type": "text"
      },
      "source": [
        "![alt text](https://raw.githubusercontent.com/ChrisGreer1/Pet-ERD/master/PETS%20folder/Untitled%20Diagram.png)"
      ]
    }
  ]
}